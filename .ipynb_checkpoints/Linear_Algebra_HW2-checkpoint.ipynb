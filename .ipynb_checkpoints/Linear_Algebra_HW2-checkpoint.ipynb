{
 "cells": [
  {
   "cell_type": "markdown",
   "metadata": {},
   "source": [
    "### 想解釋各個國家粗出生率的變異，利用古典迴歸模型做出OLSE，並驗證解釋變數與反應變數關係符合直觀預期。\n",
    "###### 以2017年的資料為例，資料來源為世界銀行。"
   ]
  },
  {
   "cell_type": "code",
   "execution_count": 1,
   "metadata": {},
   "outputs": [],
   "source": [
    "import numpy as np\n",
    "from numpy.lib.scimath import log\n",
    "import pandas as pd"
   ]
  },
  {
   "cell_type": "code",
   "execution_count": 2,
   "metadata": {},
   "outputs": [],
   "source": [
    "#data source : The World Bank (2017)\n",
    "df = pd.read_csv(\"Regression Data.csv\", encoding = \"utf-8\")"
   ]
  },
  {
   "cell_type": "code",
   "execution_count": 3,
   "metadata": {},
   "outputs": [
    {
     "data": {
      "text/html": [
       "<div>\n",
       "<style scoped>\n",
       "    .dataframe tbody tr th:only-of-type {\n",
       "        vertical-align: middle;\n",
       "    }\n",
       "\n",
       "    .dataframe tbody tr th {\n",
       "        vertical-align: top;\n",
       "    }\n",
       "\n",
       "    .dataframe thead th {\n",
       "        text-align: right;\n",
       "    }\n",
       "</style>\n",
       "<table border=\"1\" class=\"dataframe\">\n",
       "  <thead>\n",
       "    <tr style=\"text-align: right;\">\n",
       "      <th></th>\n",
       "      <th>Country Name</th>\n",
       "      <th>CrudeBirthRate</th>\n",
       "      <th>GNI_per_capita</th>\n",
       "      <th>dependencyRatioOld</th>\n",
       "      <th>expectancyLife</th>\n",
       "      <th>HDI</th>\n",
       "      <th>developmentLevel</th>\n",
       "    </tr>\n",
       "  </thead>\n",
       "  <tbody>\n",
       "    <tr>\n",
       "      <th>0</th>\n",
       "      <td>Afghanistan</td>\n",
       "      <td>32.507</td>\n",
       "      <td>560</td>\n",
       "      <td>4.763322</td>\n",
       "      <td>64.047</td>\n",
       "      <td>0.498</td>\n",
       "      <td>0</td>\n",
       "    </tr>\n",
       "    <tr>\n",
       "      <th>1</th>\n",
       "      <td>Albania</td>\n",
       "      <td>11.745</td>\n",
       "      <td>4320</td>\n",
       "      <td>18.997890</td>\n",
       "      <td>78.495</td>\n",
       "      <td>0.785</td>\n",
       "      <td>0</td>\n",
       "    </tr>\n",
       "    <tr>\n",
       "      <th>2</th>\n",
       "      <td>Algeria</td>\n",
       "      <td>22.292</td>\n",
       "      <td>3940</td>\n",
       "      <td>9.628360</td>\n",
       "      <td>76.293</td>\n",
       "      <td>0.754</td>\n",
       "      <td>0</td>\n",
       "    </tr>\n",
       "    <tr>\n",
       "      <th>3</th>\n",
       "      <td>Angola</td>\n",
       "      <td>41.347</td>\n",
       "      <td>3570</td>\n",
       "      <td>4.734532</td>\n",
       "      <td>61.809</td>\n",
       "      <td>0.581</td>\n",
       "      <td>0</td>\n",
       "    </tr>\n",
       "    <tr>\n",
       "      <th>4</th>\n",
       "      <td>Argentina</td>\n",
       "      <td>16.975</td>\n",
       "      <td>13030</td>\n",
       "      <td>17.520505</td>\n",
       "      <td>76.738</td>\n",
       "      <td>0.825</td>\n",
       "      <td>0</td>\n",
       "    </tr>\n",
       "    <tr>\n",
       "      <th>...</th>\n",
       "      <td>...</td>\n",
       "      <td>...</td>\n",
       "      <td>...</td>\n",
       "      <td>...</td>\n",
       "      <td>...</td>\n",
       "      <td>...</td>\n",
       "      <td>...</td>\n",
       "    </tr>\n",
       "    <tr>\n",
       "      <th>170</th>\n",
       "      <td>Uzbekistan</td>\n",
       "      <td>22.100</td>\n",
       "      <td>2000</td>\n",
       "      <td>6.616025</td>\n",
       "      <td>71.420</td>\n",
       "      <td>0.710</td>\n",
       "      <td>0</td>\n",
       "    </tr>\n",
       "    <tr>\n",
       "      <th>171</th>\n",
       "      <td>Vanuatu</td>\n",
       "      <td>25.524</td>\n",
       "      <td>2920</td>\n",
       "      <td>7.358980</td>\n",
       "      <td>72.334</td>\n",
       "      <td>0.603</td>\n",
       "      <td>0</td>\n",
       "    </tr>\n",
       "    <tr>\n",
       "      <th>172</th>\n",
       "      <td>Vietnam</td>\n",
       "      <td>16.450</td>\n",
       "      <td>2160</td>\n",
       "      <td>10.244811</td>\n",
       "      <td>76.454</td>\n",
       "      <td>0.694</td>\n",
       "      <td>0</td>\n",
       "    </tr>\n",
       "    <tr>\n",
       "      <th>173</th>\n",
       "      <td>Zambia</td>\n",
       "      <td>37.833</td>\n",
       "      <td>1290</td>\n",
       "      <td>4.701909</td>\n",
       "      <td>62.255</td>\n",
       "      <td>0.588</td>\n",
       "      <td>0</td>\n",
       "    </tr>\n",
       "    <tr>\n",
       "      <th>174</th>\n",
       "      <td>Zimbabwe</td>\n",
       "      <td>32.318</td>\n",
       "      <td>1170</td>\n",
       "      <td>5.041523</td>\n",
       "      <td>61.712</td>\n",
       "      <td>0.535</td>\n",
       "      <td>0</td>\n",
       "    </tr>\n",
       "  </tbody>\n",
       "</table>\n",
       "<p>175 rows × 7 columns</p>\n",
       "</div>"
      ],
      "text/plain": [
       "    Country Name  CrudeBirthRate  GNI_per_capita  dependencyRatioOld  \\\n",
       "0    Afghanistan          32.507             560            4.763322   \n",
       "1        Albania          11.745            4320           18.997890   \n",
       "2        Algeria          22.292            3940            9.628360   \n",
       "3         Angola          41.347            3570            4.734532   \n",
       "4      Argentina          16.975           13030           17.520505   \n",
       "..           ...             ...             ...                 ...   \n",
       "170   Uzbekistan          22.100            2000            6.616025   \n",
       "171      Vanuatu          25.524            2920            7.358980   \n",
       "172      Vietnam          16.450            2160           10.244811   \n",
       "173       Zambia          37.833            1290            4.701909   \n",
       "174     Zimbabwe          32.318            1170            5.041523   \n",
       "\n",
       "     expectancyLife    HDI  developmentLevel  \n",
       "0            64.047  0.498                 0  \n",
       "1            78.495  0.785                 0  \n",
       "2            76.293  0.754                 0  \n",
       "3            61.809  0.581                 0  \n",
       "4            76.738  0.825                 0  \n",
       "..              ...    ...               ...  \n",
       "170          71.420  0.710                 0  \n",
       "171          72.334  0.603                 0  \n",
       "172          76.454  0.694                 0  \n",
       "173          62.255  0.588                 0  \n",
       "174          61.712  0.535                 0  \n",
       "\n",
       "[175 rows x 7 columns]"
      ]
     },
     "execution_count": 3,
     "metadata": {},
     "output_type": "execute_result"
    }
   ],
   "source": [
    "df"
   ]
  },
  {
   "cell_type": "code",
   "execution_count": 4,
   "metadata": {},
   "outputs": [],
   "source": [
    "#反應變數：粗出生率，為一175維的行向量 Y\n",
    "Y = np.array(df[\"CrudeBirthRate\"].tolist()).reshape((-1,1))\n",
    "\n",
    "#截距項\n",
    "interceptList = []\n",
    "for i in range(len(df)):\n",
    "    interceptList.append(1)\n",
    "intercept = np.array(interceptList).reshape((-1,1))\n",
    "\n",
    "#解釋變數 1：人均國民所得取自然對數\n",
    "ln_GNI = np.array(log(df[\"GNI_per_capita\"]).tolist()).reshape((-1,1))\n",
    "\n",
    "#解釋變數 2：該國扶老比取自然對數\n",
    "ln_DRO = np.array(log(df[\"dependencyRatioOld\"]).tolist()).reshape((-1,1))\n",
    "\n",
    "#解釋變數 3：該國平均壽命\n",
    "EL = np.array(df[\"expectancyLife\"].tolist()).reshape((-1,1))\n",
    "\n",
    "#解釋變數 4：HDI是否大於0.9，大於0.9者稱發展程度為1，反之則為0。\n",
    "DL = np.array(df[\"developmentLevel\"].tolist()).reshape((-1,1))\n",
    "\n",
    "#將截距項與解釋變數們合併成一個175 by 5的矩陣 X\n",
    "X = np.hstack((intercept, ln_GNI, ln_DRO, EL, DL))"
   ]
  },
  {
   "cell_type": "code",
   "execution_count": 5,
   "metadata": {
    "scrolled": true
   },
   "outputs": [
    {
     "data": {
      "text/plain": [
       "array([[93.07598036],\n",
       "       [-2.18817586],\n",
       "       [-5.93035839],\n",
       "       [-0.56225649],\n",
       "       [ 6.58101126]])"
      ]
     },
     "execution_count": 5,
     "metadata": {},
     "output_type": "execute_result"
    }
   ],
   "source": [
    "#OLSE\n",
    "OLSE = np.linalg.inv(X.transpose()@X)@X.transpose()@Y\n",
    "OLSE"
   ]
  },
  {
   "cell_type": "code",
   "execution_count": 8,
   "metadata": {},
   "outputs": [
    {
     "name": "stdout",
     "output_type": "stream",
     "text": [
      "CrudeBirthRate = 93.07598035770002 + (-2.188175858373376) * ln_GNI + (-5.930358393692592) * ln_DRO + (-0.5622564883747256) * EL + 6.581011260295781 * DL\n"
     ]
    }
   ],
   "source": [
    "print(\"CrudeBirthRate = {} + ({}) * ln_GNI + ({}) * ln_DRO + ({}) * EL + {} * DL\".format(OLSE[0][0], OLSE[1][0], OLSE[2][0], OLSE[3][0], OLSE[4][0]))"
   ]
  },
  {
   "cell_type": "markdown",
   "metadata": {},
   "source": [
    "### 由上面OLSE可知：\n",
    "#### 1. 人均國民所得與粗出生率有反向關係：因為開發中國家傾向有高出生率，而像台灣或其他大多數已開發國家，出生率則較低。\n",
    "#### 2. 扶老比與粗出生率有反向關係：因為當年輕人扶養負擔越重，越不想生小孩，亦符合直觀預期。\n",
    "#### 3. 該國平均壽命與粗出生率有反向關係：因為高平均餘命的國家，代表有著健全的醫療體系，不會有想多生一點的動機。\n",
    "#### 4. HDI>0.9與粗出生率有正向關係：此項係為捕捉像瑞典、芬蘭等高社會福利的國家，雖為已開發國家，但其社會福利制度健全鼓勵生育，故也符合預期。"
   ]
  },
  {
   "cell_type": "code",
   "execution_count": null,
   "metadata": {},
   "outputs": [],
   "source": []
  }
 ],
 "metadata": {
  "kernelspec": {
   "display_name": "Python 3",
   "language": "python",
   "name": "python3"
  },
  "language_info": {
   "codemirror_mode": {
    "name": "ipython",
    "version": 3
   },
   "file_extension": ".py",
   "mimetype": "text/x-python",
   "name": "python",
   "nbconvert_exporter": "python",
   "pygments_lexer": "ipython3",
   "version": "3.7.6"
  }
 },
 "nbformat": 4,
 "nbformat_minor": 4
}
