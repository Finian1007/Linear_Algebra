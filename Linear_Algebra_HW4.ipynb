{
 "cells": [
  {
   "cell_type": "code",
   "execution_count": 1,
   "metadata": {},
   "outputs": [],
   "source": [
    "import sympy as sp\n",
    "import random"
   ]
  },
  {
   "cell_type": "code",
   "execution_count": 2,
   "metadata": {},
   "outputs": [],
   "source": [
    "# 定義一個函式來驗證：給定任意兩個 n 維行向量 x, y， x*y.T 的 rank 為 1。\n",
    "def checker(x, y):\n",
    "    A = x*y.T\n",
    "    errorChecker = 0 \n",
    "    for i in range(len(x)):\n",
    "        if i == 0:\n",
    "            continue\n",
    "        else:\n",
    "            multiplier = A.col(i)[0]/A.col(0)[0]\n",
    "            for j in range(len(x)-1):\n",
    "                if A.col(i)[j+1]/A.col(0)[j+1] == multiplier:\n",
    "                    continue\n",
    "                else:\n",
    "                    errorChecker += 1\n",
    "    if errorChecker == 0:\n",
    "        print(\"Rank is 1\")\n",
    "    else:\n",
    "        print(\"Error\")\n",
    "        \n",
    "# 再定義一個產生隨機行向量的函式，input為維度\n",
    "def columnVectorGenerator(dimension):\n",
    "    List = []\n",
    "    for i in range(dimension):\n",
    "        List.append(random.randint(0,100000))\n",
    "    return sp.Matrix(List)"
   ]
  },
  {
   "cell_type": "code",
   "execution_count": 3,
   "metadata": {},
   "outputs": [
    {
     "data": {
      "text/latex": [
       "$\\displaystyle \\left[\\begin{matrix}4064683520 & 2012616600 & 1888304740 & 800874010 & 3089371900 & 5267538950 & 4235652970 & 4010981230 & 4842147450 & 960463560\\\\7279226368 & 3604288440 & 3381664916 & 1434242834 & 5532592460 & 9433356430 & 7585406498 & 7183053782 & 8671545330 & 1720043304\\\\1208303872 & 598288260 & 561334214 & 238074911 & 918374090 & 1565875345 & 1259127767 & 1192339853 & 1439419695 & 285515916\\\\800560384 & 396395220 & 371911358 & 157736267 & 608467730 & 1037468965 & 834233699 & 789983441 & 953685915 & 189168252\\\\1223005440 & 605567700 & 568164030 & 240971595 & 929548050 & 1584927525 & 1274447715 & 1206847185 & 1456933275 & 288989820\\\\289305856 & 143248980 & 134401022 & 57002603 & 219887570 & 374919685 & 301474691 & 285483569 & 344642235 & 68361468\\\\6954216704 & 3443360820 & 3230677198 & 1370205427 & 5285568130 & 9012167165 & 7246726219 & 6862338121 & 8284370115 & 1643245212\\\\1679054080 & 831378900 & 780027710 & 330827915 & 1276168850 & 2175933925 & 1749678755 & 1656870545 & 2000211675 & 396751740\\\\5009859328 & 2480617740 & 2327399186 & 987104189 & 3807754910 & 6492419155 & 5220584933 & 4943669447 & 5968109805 & 1183803684\\\\5409876992 & 2678685360 & 2513232904 & 1065920596 & 4111789240 & 7010813420 & 5637428212 & 5338402108 & 6444640020 & 1278325776\\end{matrix}\\right]$"
      ],
      "text/plain": [
       "Matrix([\n",
       "[4064683520, 2012616600, 1888304740,  800874010, 3089371900, 5267538950, 4235652970, 4010981230, 4842147450,  960463560],\n",
       "[7279226368, 3604288440, 3381664916, 1434242834, 5532592460, 9433356430, 7585406498, 7183053782, 8671545330, 1720043304],\n",
       "[1208303872,  598288260,  561334214,  238074911,  918374090, 1565875345, 1259127767, 1192339853, 1439419695,  285515916],\n",
       "[ 800560384,  396395220,  371911358,  157736267,  608467730, 1037468965,  834233699,  789983441,  953685915,  189168252],\n",
       "[1223005440,  605567700,  568164030,  240971595,  929548050, 1584927525, 1274447715, 1206847185, 1456933275,  288989820],\n",
       "[ 289305856,  143248980,  134401022,   57002603,  219887570,  374919685,  301474691,  285483569,  344642235,   68361468],\n",
       "[6954216704, 3443360820, 3230677198, 1370205427, 5285568130, 9012167165, 7246726219, 6862338121, 8284370115, 1643245212],\n",
       "[1679054080,  831378900,  780027710,  330827915, 1276168850, 2175933925, 1749678755, 1656870545, 2000211675,  396751740],\n",
       "[5009859328, 2480617740, 2327399186,  987104189, 3807754910, 6492419155, 5220584933, 4943669447, 5968109805, 1183803684],\n",
       "[5409876992, 2678685360, 2513232904, 1065920596, 4111789240, 7010813420, 5637428212, 5338402108, 6444640020, 1278325776]])"
      ]
     },
     "execution_count": 3,
     "metadata": {},
     "output_type": "execute_result"
    }
   ],
   "source": [
    "# 第一次驗證\n",
    "x = columnVectorGenerator(10)\n",
    "y = columnVectorGenerator(10)\n",
    "x*y.T"
   ]
  },
  {
   "cell_type": "code",
   "execution_count": 4,
   "metadata": {},
   "outputs": [
    {
     "name": "stdout",
     "output_type": "stream",
     "text": [
      "Rank is 1\n"
     ]
    }
   ],
   "source": [
    "checker(x, y)"
   ]
  },
  {
   "cell_type": "code",
   "execution_count": 5,
   "metadata": {},
   "outputs": [
    {
     "name": "stdout",
     "output_type": "stream",
     "text": [
      "Rank is 1\n",
      "Rank is 1\n",
      "Rank is 1\n",
      "Rank is 1\n",
      "Rank is 1\n",
      "Rank is 1\n",
      "Rank is 1\n",
      "Rank is 1\n",
      "Rank is 1\n",
      "Rank is 1\n",
      "Rank is 1\n",
      "Rank is 1\n",
      "Rank is 1\n",
      "Rank is 1\n",
      "Rank is 1\n",
      "Rank is 1\n",
      "Rank is 1\n",
      "Rank is 1\n",
      "Rank is 1\n",
      "Rank is 1\n",
      "Rank is 1\n",
      "Rank is 1\n",
      "Rank is 1\n",
      "Rank is 1\n",
      "Rank is 1\n",
      "Rank is 1\n",
      "Rank is 1\n",
      "Rank is 1\n",
      "Rank is 1\n",
      "Rank is 1\n",
      "Rank is 1\n",
      "Rank is 1\n",
      "Rank is 1\n",
      "Rank is 1\n",
      "Rank is 1\n",
      "Rank is 1\n",
      "Rank is 1\n",
      "Rank is 1\n",
      "Rank is 1\n",
      "Rank is 1\n",
      "Rank is 1\n",
      "Rank is 1\n",
      "Rank is 1\n",
      "Rank is 1\n",
      "Rank is 1\n",
      "Rank is 1\n",
      "Rank is 1\n",
      "Rank is 1\n",
      "Rank is 1\n",
      "Rank is 1\n"
     ]
    }
   ],
   "source": [
    "# 做50次驗證，每次維度為0~100隨機產生\n",
    "times = 50\n",
    "for i in range(times):\n",
    "    dimension = random.randint(0,100)\n",
    "    x = columnVectorGenerator(dimension)\n",
    "    y = columnVectorGenerator(dimension)\n",
    "    checker(x, y)"
   ]
  },
  {
   "cell_type": "code",
   "execution_count": null,
   "metadata": {},
   "outputs": [],
   "source": []
  }
 ],
 "metadata": {
  "kernelspec": {
   "display_name": "Python 3",
   "language": "python",
   "name": "python3"
  },
  "language_info": {
   "codemirror_mode": {
    "name": "ipython",
    "version": 3
   },
   "file_extension": ".py",
   "mimetype": "text/x-python",
   "name": "python",
   "nbconvert_exporter": "python",
   "pygments_lexer": "ipython3",
   "version": "3.7.6"
  }
 },
 "nbformat": 4,
 "nbformat_minor": 4
}
