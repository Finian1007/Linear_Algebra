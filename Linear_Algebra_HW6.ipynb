{
 "cells": [
  {
   "cell_type": "code",
   "execution_count": 1,
   "metadata": {},
   "outputs": [],
   "source": [
    "import matplotlib.pyplot as plt\n",
    "import numpy as np"
   ]
  },
  {
   "cell_type": "markdown",
   "metadata": {},
   "source": [
    "#### 定義二維平面上的區域 $S\\subseteq\\mathbb{R}^2$\n",
    "其中 $S = [-2,2]\\times[-2,2]$"
   ]
  },
  {
   "cell_type": "code",
   "execution_count": 2,
   "metadata": {},
   "outputs": [
    {
     "data": {
      "image/png": "[encoded data removed]",
      "text/plain": [
       "<Figure size 432x288 with 1 Axes>"
      ]
     },
     "metadata": {
      "needs_background": "light"
     },
     "output_type": "display_data"
    }
   ],
   "source": [
    "x = np.linspace(-2, 2, 20)\n",
    "y = np.linspace(-2, 2, 20)\n",
    "\n",
    "SPoints = []\n",
    "for i in x:\n",
    "    for j in y:\n",
    "        plt.scatter(i, j, c = \"c\")\n",
    "        SPoints.append([i, j])\n",
    "plt.xlim(6, -6)\n",
    "plt.ylim(6, -6)\n",
    "\n",
    "SPoints = np.array(SPoints).T"
   ]
  },
  {
   "cell_type": "markdown",
   "metadata": {},
   "source": [
    "#### 定義一線性轉換$\\Phi:\\mathbb{R}^2\\to\\mathbb{R}^2$如下：\n",
    "$\\Phi(x, y) = (cos(\\frac{\\Pi}{8})x-sin(\\frac{\\Pi}{8})y, cos(\\frac{\\Pi}{8})x+sin(\\frac{\\Pi}{8})y)$\n",
    "\n",
    "相對於 $\\mathbb{R}^2$ 的標準基底，我們可以得到 $\\Phi$ 的矩陣表示法如下：\n",
    "\n",
    "$$\n",
    "A_\\Phi=\\begin{bmatrix}\n",
    "cos(\\frac{\\Pi}{8}) & -sin(\\frac{\\Pi}{8})\\\\\n",
    "cos(\\frac{\\Pi}{8}) & +sin(\\frac{\\Pi}{8})\n",
    "\\end{bmatrix}\n",
    "$$"
   ]
  },
  {
   "cell_type": "code",
   "execution_count": 3,
   "metadata": {},
   "outputs": [],
   "source": [
    "A = np.array([[np.cos(np.pi/8), -np.sin(np.pi/8)],\n",
    "              [np.cos(np.pi/8), np.sin(np.pi/8)]])\n",
    "\n",
    "def phi(x):\n",
    "    assert A.shape[1]==x.shape[0], 'incompatible dimension'\n",
    "    return A@x"
   ]
  },
  {
   "cell_type": "code",
   "execution_count": 4,
   "metadata": {},
   "outputs": [
    {
     "data": {
      "text/plain": [
       "Text(0.5, 1.0, '$\\\\Phi(S)$')"
      ]
     },
     "execution_count": 4,
     "metadata": {},
     "output_type": "execute_result"
    },
    {
     "data": {
      "image/png": "[encoded data removed]",
      "text/plain": [
       "<Figure size 432x288 with 1 Axes>"
      ]
     },
     "metadata": {
      "needs_background": "light"
     },
     "output_type": "display_data"
    }
   ],
   "source": [
    "T = phi(SPoints)\n",
    "u, v = phi(SPoints)\n",
    "\n",
    "# draw Phi of S\n",
    "plt.scatter(u, v, c='b')\n",
    "plt.xlim(6, -6)\n",
    "plt.ylim(6, -6)\n",
    "plt.title('$\\Phi(S)$')"
   ]
  },
  {
   "cell_type": "code",
   "execution_count": 5,
   "metadata": {},
   "outputs": [
    {
     "data": {
      "text/plain": [
       "Text(0.5, 1.0, '$S$ & $\\\\Phi(S)$')"
      ]
     },
     "execution_count": 5,
     "metadata": {},
     "output_type": "execute_result"
    },
    {
     "data": {
      "image/png": "[encoded data removed]",
      "text/plain": [
       "<Figure size 432x288 with 1 Axes>"
      ]
     },
     "metadata": {
      "needs_background": "light"
     },
     "output_type": "display_data"
    }
   ],
   "source": [
    "# Draw S and Phi of S together.\n",
    "#S\n",
    "for i in x:\n",
    "    for j in y:\n",
    "        plt.scatter(i, j, c = \"c\")\n",
    "        \n",
    "#Phi of S        \n",
    "plt.scatter(u, v, c='b')\n",
    "\n",
    "plt.xlim(6, -6)\n",
    "plt.ylim(6, -6)\n",
    "plt.title('$S$ & $\\Phi(S)$')"
   ]
  },
  {
   "cell_type": "code",
   "execution_count": null,
   "metadata": {},
   "outputs": [],
   "source": []
  }
 ],
 "metadata": {
  "kernelspec": {
   "display_name": "Python 3",
   "language": "python",
   "name": "python3"
  },
  "language_info": {
   "codemirror_mode": {
    "name": "ipython",
    "version": 3
   },
   "file_extension": ".py",
   "mimetype": "text/x-python",
   "name": "python",
   "nbconvert_exporter": "python",
   "pygments_lexer": "ipython3",
   "version": "3.7.6"
  }
 },
 "nbformat": 4,
 "nbformat_minor": 4
}
