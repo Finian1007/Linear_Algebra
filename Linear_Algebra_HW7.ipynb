{
 "cells": [
  {
   "cell_type": "code",
   "execution_count": 1,
   "metadata": {},
   "outputs": [],
   "source": [
    "import sympy as sp"
   ]
  },
  {
   "cell_type": "markdown",
   "metadata": {},
   "source": [
    "#### Define a linear transformation $\\Phi:\\mathbb{R}^3\\to\\mathbb{R}^4$"
   ]
  },
  {
   "cell_type": "code",
   "execution_count": 2,
   "metadata": {},
   "outputs": [],
   "source": [
    "# define a transformation matrix A\n",
    "A = sp.Matrix([[1, 4, 7],\n",
    "                    [2, 8, 7],\n",
    "                    [3, -1, -2],\n",
    "                    [5, 10, 7]])"
   ]
  },
  {
   "cell_type": "code",
   "execution_count": 3,
   "metadata": {},
   "outputs": [],
   "source": [
    "# standard basis\n",
    "B = sp.eye(3)\n",
    "C = sp.eye(4)"
   ]
  },
  {
   "cell_type": "code",
   "execution_count": 4,
   "metadata": {},
   "outputs": [],
   "source": [
    "# define other basis\n",
    "B1 = sp.Matrix([[1, 1, 0],\n",
    "                      [0, 1, 1],\n",
    "                      [1, 0, 1]])\n",
    "C1 = sp.Matrix([[1, 1, 0, 0],\n",
    "                      [1, 0, 1, 0],\n",
    "                      [0, 1, 1, 1],\n",
    "                      [0, 0, 0, 1]])"
   ]
  },
  {
   "cell_type": "markdown",
   "metadata": {},
   "source": [
    "#### Calculate transformation matrix under new basis"
   ]
  },
  {
   "cell_type": "code",
   "execution_count": 5,
   "metadata": {},
   "outputs": [
    {
     "data": {
      "text/latex": [
       "$\\displaystyle \\left[\\begin{matrix}14 & 14 & 23\\\\-6 & -9 & -12\\\\-5 & -4 & -8\\\\12 & 15 & 17\\end{matrix}\\right]$"
      ],
      "text/plain": [
       "Matrix([\n",
       "[14, 14,  23],\n",
       "[-6, -9, -12],\n",
       "[-5, -4,  -8],\n",
       "[12, 15,  17]])"
      ]
     },
     "execution_count": 5,
     "metadata": {},
     "output_type": "execute_result"
    }
   ],
   "source": [
    "# By formula\n",
    "A1 = C1.inv() * A * B1\n",
    "A1"
   ]
  },
  {
   "cell_type": "markdown",
   "metadata": {},
   "source": [
    "#### Checking the result"
   ]
  },
  {
   "cell_type": "code",
   "execution_count": 6,
   "metadata": {},
   "outputs": [
    {
     "data": {
      "text/plain": [
       "True"
      ]
     },
     "execution_count": 6,
     "metadata": {},
     "output_type": "execute_result"
    }
   ],
   "source": [
    "C1 * A1 * sp.Matrix([12, 100, 21]) == A * B1 * sp.Matrix([12, 100, 21])"
   ]
  },
  {
   "cell_type": "code",
   "execution_count": null,
   "metadata": {},
   "outputs": [],
   "source": []
  }
 ],
 "metadata": {
  "kernelspec": {
   "display_name": "Python 3",
   "language": "python",
   "name": "python3"
  },
  "language_info": {
   "codemirror_mode": {
    "name": "ipython",
    "version": 3
   },
   "file_extension": ".py",
   "mimetype": "text/x-python",
   "name": "python",
   "nbconvert_exporter": "python",
   "pygments_lexer": "ipython3",
   "version": "3.7.6"
  }
 },
 "nbformat": 4,
 "nbformat_minor": 4
}
